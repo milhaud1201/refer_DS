{
 "cells": [
  {
   "cell_type": "markdown",
   "id": "560379d3",
   "metadata": {},
   "source": [
    "# Solving Linear Systems: 2 variables"
   ]
  },
  {
   "cell_type": "markdown",
   "id": "f77b4377",
   "metadata": {},
   "source": [
    "By completing this lab, you will be able to use basic programming skills with Python and `NumPy` package to solve systems of linear equations. In this notebook you will:\n",
    "\n",
    "- Use `NumPy` linear algebra package to find the solutions of the system of linear equations\n",
    "- Find the solution for the system of linear equations using elimination method\n",
    "- Evaluate the determinant of the matrix and examine the relationship between matrix singularity and number of solutions of the linear system"
   ]
  },
  {
   "cell_type": "markdown",
   "id": "39688a16",
   "metadata": {},
   "source": [
    "# Table of Contents\n",
    "\n",
    "- [ 1 - Representing and Solving System of Linear Equations using Matrices](#1)\n",
    "  - [ 1.1 - System of Linear Equations](#1.1)\n",
    "  - [ 1.2 - Solving Systems of Linear Equations using Matrices](#1.2)\n",
    "  - [ 1.3 - Evaluating Determinant of a Matrix](#1.3)\n",
    "- [ 2 - Solving System of Linear Equations using Elimination Method](#2)\n",
    "  - [ 2.1 - Elimination Method](#2.1)\n",
    "  - [ 2.2 - Preparation for the Implementation of Elimination Method in the Code](#2.2)\n",
    "  - [ 2.3 - Implementation of Elimination Method](#2.3)\n",
    "  - [ 2.4 - Graphical Representation of the Solution](#2.4)\n",
    "- [ 3 - System of Linear Equations with No Solutions](#3)\n",
    "- [ 4 - System of Linear Equations with Infinite Number of Solutions](#4)"
   ]
  },
  {
   "cell_type": "markdown",
   "id": "d6165c13",
   "metadata": {},
   "source": [
    "## Packages\n",
    "\n",
    "Load the `NumPy` package to access its functions."
   ]
  },
  {
   "cell_type": "code",
   "execution_count": 4,
   "id": "fa3dcf04",
   "metadata": {},
   "outputs": [],
   "source": [
    "import numpy as np"
   ]
  },
  {
   "cell_type": "code",
   "execution_count": 5,
   "id": "53e97076",
   "metadata": {},
   "outputs": [
    {
     "data": {
      "text/plain": [
       "8.0"
      ]
     },
     "execution_count": 5,
     "metadata": {},
     "output_type": "execute_result"
    }
   ],
   "source": [
    "# 2a + 5b = 46  =>    a + 2.5b = 23\n",
    "# 8a + b= 32 =>    -  a + 0.125b = 4\n",
    "\n",
    "# 2.375b=19\n",
    "19/2.375"
   ]
  },
  {
   "cell_type": "markdown",
   "id": "3a5552bd",
   "metadata": {},
   "source": [
    "<a name='1'></a>\n",
    "## 1 - Representing and Solving System of Linear Equations using Matrices"
   ]
  },
  {
   "cell_type": "markdown",
   "id": "7de33135",
   "metadata": {},
   "source": [
    "<a name='1.1'></a>\n",
    "### 1.1 - System of Linear Equations\n",
    "\n",
    "A **system of linear equations** (or **linear system**) is a collection of one or more linear equations involving the same variables. For example:\n",
    "\n",
    "\n",
    "$$\\begin{cases} \n",
    "-x_1+3x_2=7, \\\\ 3x_1+2x_2=1, \\end{cases}\\tag{1}$$\n",
    "\n",
    "is a system of two equations with two unknown variables $x_1$, $x_2$. **To solve** a system of linear equations means to find such values of the variables $x_1$, $x_2$, that all of its equations are simultaneously satisfied.\n",
    "\n",
    "A linear system is **inconsistent** if it has no solution, and otherwise it is said to be **consistent**. Consistent system can have one or infinite number of solutions."
   ]
  },
  {
   "cell_type": "markdown",
   "id": "9b3741b6",
   "metadata": {},
   "source": [
    "<a name='1.2'></a>\n",
    "### 1.2 - Solving Systems of Linear Equations using Matrices\n",
    "\n",
    "Linear systems with two equations are easy to solve manually, but preparing for more complicated cases, you will investigate some solution techniques. \n",
    "\n",
    "`NumPy` linear algebra package provides quick and reliable way to solve the system of linear equations using function `np.linalg.solve(A, b)`. Here $A$ is a matrix, each row of which represents one equation in the system and each column corresponds to the variable $x_1$, $x_2$. And $b$ is a 1-D array of the free (right side) coefficients. More information about the `np.linalg.solve()` function can be found in [documentation](https://numpy.org/doc/stable/reference/generated/numpy.linalg.solve.html).\n",
    "\n",
    "Given the system of linear equations $(1)$, you can set matrix $A$ and 1-D array $b$ as:"
   ]
  },
  {
   "cell_type": "code",
   "execution_count": 6,
   "id": "e5758e1b",
   "metadata": {},
   "outputs": [
    {
     "name": "stdout",
     "output_type": "stream",
     "text": [
      "Matrix A:\n",
      "[[-1.  3.]\n",
      " [ 3.  2.]]\n",
      "\n",
      "Array b:\n",
      "[7. 1.]\n"
     ]
    }
   ],
   "source": [
    "A = np.array([\n",
    "        [-1, 3],\n",
    "        [3, 2]\n",
    "    ], dtype=np.dtype(float))\n",
    "\n",
    "b = np.array([7, 1], dtype=np.dtype(float))\n",
    "\n",
    "print(\"Matrix A:\")\n",
    "print(A)\n",
    "print(\"\\nArray b:\")\n",
    "print(b)"
   ]
  },
  {
   "cell_type": "markdown",
   "id": "cb8d9457",
   "metadata": {},
   "source": [
    "Check the dimensions of $A$ and $b$ using the `shape` attribute (you can also use `np.shape()` as an alternative):"
   ]
  },
  {
   "cell_type": "code",
   "execution_count": 3,
   "id": "ddc3b411",
   "metadata": {},
   "outputs": [
    {
     "name": "stdout",
     "output_type": "stream",
     "text": [
      "Shape of A: (2, 2)\n",
      "Shape of b: (2,)\n"
     ]
    }
   ],
   "source": [
    "print(f\"Shape of A: {A.shape}\")\n",
    "print(f\"Shape of b: {b.shape}\")\n",
    "\n",
    "# print(f\"Shape of A: {np.shape(A)}\")\n",
    "# print(f\"Shape of A: {np.shape(b)}\")"
   ]
  },
  {
   "cell_type": "markdown",
   "id": "ee2f505f",
   "metadata": {},
   "source": [
    "Now simply use `np.linalg.solve(A, b)` function to find the solution of the system $(1)$. The result will be saved in the 1-D array $x$. The elements will correspond to the values of $x_1$ and $x_2$:"
   ]
  },
  {
   "cell_type": "code",
   "execution_count": 4,
   "id": "5e87fd89",
   "metadata": {},
   "outputs": [
    {
     "name": "stdout",
     "output_type": "stream",
     "text": [
      "Solution: [-1.  2.]\n"
     ]
    }
   ],
   "source": [
    "x = np.linalg.solve(A, b)\n",
    "\n",
    "print(f\"Solution: {x}\")"
   ]
  },
  {
   "cell_type": "markdown",
   "id": "15e5933b",
   "metadata": {},
   "source": [
    "Try to substitute those values of $x_1$ and $x_2$ into the original system of equations to check its consistency."
   ]
  },
  {
   "cell_type": "markdown",
   "id": "0720e16c",
   "metadata": {},
   "source": [
    "<a name='1.3'></a>\n",
    "### 1.3 - Evaluating Determinant of a Matrix\n",
    "\n",
    "Matrix $A$ corresponding to the linear system $(1)$ is a **square matrix** - it has the same number of rows and columns. In case of a square matrix it is possible to calculate its determinant - a real number which characterizes some properties of the matrix. Linear system containing two (or more) equations with the same number of unknown variables will have one solution if and only if matrix $A$ has non-zero determinant.\n",
    "\n",
    "Let's calculate the determinant using `NumPy` linear algebra package. You can do it with the `np.linalg.det(A)` function. More information about it can be found in [documentation](https://numpy.org/doc/stable/reference/generated/numpy.linalg.det.html)."
   ]
  },
  {
   "cell_type": "code",
   "execution_count": 5,
   "id": "6cb492c2",
   "metadata": {},
   "outputs": [
    {
     "name": "stdout",
     "output_type": "stream",
     "text": [
      "Determinant of matrix A: -11.00\n"
     ]
    }
   ],
   "source": [
    "d = np.linalg.det(A)\n",
    "\n",
    "print(f\"Determinant of matrix A: {d:.2f}\")"
   ]
  },
  {
   "cell_type": "markdown",
   "id": "76d5e51f",
   "metadata": {},
   "source": [
    "Note that its value is non-zero, as expected for a system with exactly one solution."
   ]
  },
  {
   "cell_type": "markdown",
   "id": "a65131ec",
   "metadata": {},
   "source": [
    "<a name='2'></a>\n",
    "## 2 - Solving System of Linear Equations using Elimination Method"
   ]
  },
  {
   "cell_type": "markdown",
   "id": "9635230c",
   "metadata": {},
   "source": [
    "You can see how easy it is to use contemporary packages to solve linear equations. However, for deeper understanding of mathematical concepts, it is important to practice some solution techniques manually. Programming approach can still help here to reduce the amount of arithmetical calculations, and focus on the method itself."
   ]
  },
  {
   "cell_type": "markdown",
   "id": "8003bf67",
   "metadata": {},
   "source": [
    "<a name='2.1'></a>\n",
    "### 2.1 - Elimination Method"
   ]
  },
  {
   "cell_type": "markdown",
   "id": "bdcf88a7",
   "metadata": {},
   "source": [
    "In the **elimination method** you either add or subtract the equations of the linear system to get an equation with smaller number of variables. If needed, you can also multiply whole equation by non-zero number. \n",
    "\n",
    "Take a look at the system $(1)$ again:\n",
    "\n",
    "$$\\begin{cases} \n",
    "-x_1+3x_2=7, \\\\ 3x_1+2x_2=1, \\end{cases}$$\n",
    "\n",
    "Multiply first equation by 3, add it to the second equation and exchange the second equation with the result of this addition:\n",
    "\n",
    "$$\\begin{cases} \n",
    "-x_1+3x_2=7, \\\\ 11x_2=22. \\end{cases}\\tag{2}$$\n",
    "\n",
    "You eliminated variable $x_1$ from the second equation and brough it to the form where, dividing by $11$, you can see the solution value for $x_2$: $x_2=2$. Now take $x_2=2$ in the first equation:\n",
    "\n",
    "$$\\begin{cases} \n",
    "-x_1+3 \\times 2=7, \\\\ x_2=2, \\end{cases}\\tag{3}$$\n",
    "\n",
    "And find the solution:\n",
    "\n",
    "$$\\begin{cases} \n",
    "x_1=-1, \\\\ x_2=2. \\end{cases}\\tag{4}$$\n",
    "\n",
    "Check that it's the same one that you found in the section [1.2](#1.2)."
   ]
  },
  {
   "cell_type": "markdown",
   "id": "678e3bd9",
   "metadata": {},
   "source": [
    "<a name='2.2'></a>\n",
    "### 2.2 - Preparation for the Implementation of Elimination Method in the Code\n",
    "\n",
    "Representing the system in a matrix form as\n",
    "$\\begin{bmatrix}\n",
    "-1 & 3 & 7 \\\\\n",
    "3 & 2 & 1\n",
    "\\end{bmatrix},\n",
    "$\n",
    "you can apply the same operations to the rows of the matrix with Python code.\n",
    "\n",
    "Unify matrix $A$ and array $b$ into one matrix using `np.hstack()` function. Note that the shape of the originally defined array $b$ was $(2,)$, to stack it with the $(2, 2)$ matrix you need to use `.reshape((2, 1))` function:"
   ]
  },
  {
   "cell_type": "code",
   "execution_count": 22,
   "id": "cdff495d",
   "metadata": {},
   "outputs": [
    {
     "data": {
      "text/plain": [
       "array([[-1.,  3.],\n",
       "       [ 3.,  2.]])"
      ]
     },
     "execution_count": 22,
     "metadata": {},
     "output_type": "execute_result"
    }
   ],
   "source": [
    "A"
   ]
  },
  {
   "cell_type": "code",
   "execution_count": 23,
   "id": "bbdca46e",
   "metadata": {},
   "outputs": [
    {
     "data": {
      "text/plain": [
       "array([7., 1.])"
      ]
     },
     "execution_count": 23,
     "metadata": {},
     "output_type": "execute_result"
    }
   ],
   "source": [
    "b"
   ]
  },
  {
   "cell_type": "code",
   "execution_count": 24,
   "id": "d3b699b7",
   "metadata": {},
   "outputs": [
    {
     "data": {
      "text/plain": [
       "array([[7.],\n",
       "       [1.]])"
      ]
     },
     "execution_count": 24,
     "metadata": {},
     "output_type": "execute_result"
    }
   ],
   "source": [
    "b.reshape(2, -1)"
   ]
  },
  {
   "cell_type": "code",
   "execution_count": 25,
   "id": "ba69936f",
   "metadata": {},
   "outputs": [
    {
     "name": "stdout",
     "output_type": "stream",
     "text": [
      "[[-1.  3.  7.]\n",
      " [ 3.  2.  1.]]\n"
     ]
    }
   ],
   "source": [
    "A_system = np.hstack((A, b.reshape((2, 1))))\n",
    "\n",
    "print(A_system)"
   ]
  },
  {
   "cell_type": "markdown",
   "id": "b8d17bbc",
   "metadata": {},
   "source": [
    "Let's review how to extract a row of a matrix, which will help later to perform required operations with the rows. Remember, that indexing of arrays in Python starts from zero, so to extract second row of a matrix, you need to use the following code:"
   ]
  },
  {
   "cell_type": "code",
   "execution_count": 26,
   "id": "aac1370c",
   "metadata": {},
   "outputs": [
    {
     "name": "stdout",
     "output_type": "stream",
     "text": [
      "[3. 2. 1.]\n"
     ]
    }
   ],
   "source": [
    "print(A_system[1])"
   ]
  },
  {
   "cell_type": "markdown",
   "id": "c2d63c5a",
   "metadata": {},
   "source": [
    "<a name='2.3'></a>\n",
    "### 2.3 - Implementation of Elimination Method\n",
    "\n",
    "Let's apply some operations to the matrix $A\\_system$ to eliminate variable . First, copy the matrix to keep the original one without any changes. Then multiply first row by 3, add it to the second row and exchange the second row with the result of this addition:"
   ]
  },
  {
   "cell_type": "code",
   "execution_count": 27,
   "id": "0dfedbf5",
   "metadata": {},
   "outputs": [],
   "source": [
    "# Function .copy() is used to keep the original matrix without any changes.\n",
    "A_system_res = A_system.copy()"
   ]
  },
  {
   "cell_type": "code",
   "execution_count": 28,
   "id": "02024284",
   "metadata": {},
   "outputs": [
    {
     "name": "stdout",
     "output_type": "stream",
     "text": [
      "[[-1.  3.  7.]\n",
      " [ 0. 11. 22.]]\n"
     ]
    }
   ],
   "source": [
    "A_system_res[1] = 3 * A_system_res[0] + A_system_res[1]\n",
    "\n",
    "print(A_system_res)"
   ]
  },
  {
   "cell_type": "markdown",
   "id": "278ef920",
   "metadata": {},
   "source": [
    "Multipy second row by $1/11$:"
   ]
  },
  {
   "cell_type": "code",
   "execution_count": 29,
   "id": "3090a179",
   "metadata": {},
   "outputs": [
    {
     "name": "stdout",
     "output_type": "stream",
     "text": [
      "[[-1.  3.  7.]\n",
      " [ 0.  1.  2.]]\n"
     ]
    }
   ],
   "source": [
    "A_system_res[1] = 1/11 * A_system_res[1]\n",
    "\n",
    "print(A_system_res)"
   ]
  },
  {
   "cell_type": "markdown",
   "id": "4ac3d039",
   "metadata": {},
   "source": [
    "<a name='2.4'></a>\n",
    "### 2.4 - Graphical Representation of the Solution\n",
    "\n",
    "A linear equation in two variables (here, $x_1$ and $x_2$) is represented geometrically by a line which points $(x_1, x_2)$ make up the collection of solutions of the equation. This is called the **graph of the linear equation**. In case of the system of two equations there will be two lines corresponding to each of the equations, and the solution will be the intersection point of those lines.\n",
    "\n",
    "In the following code you will define a function `plot_lines()` to plot the lines and use it later to represent the solution which you found earlier. Do not worry if the code in the following cell will not be clear - at this stage this is not important code to understand."
   ]
  },
  {
   "cell_type": "code",
   "execution_count": 30,
   "id": "0ec0b403",
   "metadata": {},
   "outputs": [
    {
     "data": {
      "text/plain": [
       "array([-10.        ,  -9.7979798 ,  -9.5959596 ,  -9.39393939,\n",
       "        -9.19191919,  -8.98989899,  -8.78787879,  -8.58585859,\n",
       "        -8.38383838,  -8.18181818,  -7.97979798,  -7.77777778,\n",
       "        -7.57575758,  -7.37373737,  -7.17171717,  -6.96969697,\n",
       "        -6.76767677,  -6.56565657,  -6.36363636,  -6.16161616,\n",
       "        -5.95959596,  -5.75757576,  -5.55555556,  -5.35353535,\n",
       "        -5.15151515,  -4.94949495,  -4.74747475,  -4.54545455,\n",
       "        -4.34343434,  -4.14141414,  -3.93939394,  -3.73737374,\n",
       "        -3.53535354,  -3.33333333,  -3.13131313,  -2.92929293,\n",
       "        -2.72727273,  -2.52525253,  -2.32323232,  -2.12121212,\n",
       "        -1.91919192,  -1.71717172,  -1.51515152,  -1.31313131,\n",
       "        -1.11111111,  -0.90909091,  -0.70707071,  -0.50505051,\n",
       "        -0.3030303 ,  -0.1010101 ,   0.1010101 ,   0.3030303 ,\n",
       "         0.50505051,   0.70707071,   0.90909091,   1.11111111,\n",
       "         1.31313131,   1.51515152,   1.71717172,   1.91919192,\n",
       "         2.12121212,   2.32323232,   2.52525253,   2.72727273,\n",
       "         2.92929293,   3.13131313,   3.33333333,   3.53535354,\n",
       "         3.73737374,   3.93939394,   4.14141414,   4.34343434,\n",
       "         4.54545455,   4.74747475,   4.94949495,   5.15151515,\n",
       "         5.35353535,   5.55555556,   5.75757576,   5.95959596,\n",
       "         6.16161616,   6.36363636,   6.56565657,   6.76767677,\n",
       "         6.96969697,   7.17171717,   7.37373737,   7.57575758,\n",
       "         7.77777778,   7.97979798,   8.18181818,   8.38383838,\n",
       "         8.58585859,   8.78787879,   8.98989899,   9.19191919,\n",
       "         9.39393939,   9.5959596 ,   9.7979798 ,  10.        ])"
      ]
     },
     "execution_count": 30,
     "metadata": {},
     "output_type": "execute_result"
    }
   ],
   "source": [
    "x_1 = np.linspace(-10,10,100)\n",
    "x_1"
   ]
  },
  {
   "cell_type": "code",
   "execution_count": 35,
   "id": "09b4e561",
   "metadata": {},
   "outputs": [
    {
     "data": {
      "text/plain": [
       "array([[-1.,  3.,  7.],\n",
       "       [ 3.,  2.,  1.]])"
      ]
     },
     "execution_count": 35,
     "metadata": {},
     "output_type": "execute_result"
    }
   ],
   "source": [
    "M = A_system\n",
    "M"
   ]
  },
  {
   "cell_type": "code",
   "execution_count": 36,
   "id": "e1442af2",
   "metadata": {},
   "outputs": [
    {
     "data": {
      "text/plain": [
       "7.0"
      ]
     },
     "execution_count": 36,
     "metadata": {},
     "output_type": "execute_result"
    }
   ],
   "source": [
    "M[0,2]"
   ]
  },
  {
   "cell_type": "code",
   "execution_count": 31,
   "id": "721a0215",
   "metadata": {},
   "outputs": [
    {
     "data": {
      "text/plain": [
       "array([-1.        , -0.93265993, -0.86531987, -0.7979798 , -0.73063973,\n",
       "       -0.66329966, -0.5959596 , -0.52861953, -0.46127946, -0.39393939,\n",
       "       -0.32659933, -0.25925926, -0.19191919, -0.12457912, -0.05723906,\n",
       "        0.01010101,  0.07744108,  0.14478114,  0.21212121,  0.27946128,\n",
       "        0.34680135,  0.41414141,  0.48148148,  0.54882155,  0.61616162,\n",
       "        0.68350168,  0.75084175,  0.81818182,  0.88552189,  0.95286195,\n",
       "        1.02020202,  1.08754209,  1.15488215,  1.22222222,  1.28956229,\n",
       "        1.35690236,  1.42424242,  1.49158249,  1.55892256,  1.62626263,\n",
       "        1.69360269,  1.76094276,  1.82828283,  1.8956229 ,  1.96296296,\n",
       "        2.03030303,  2.0976431 ,  2.16498316,  2.23232323,  2.2996633 ,\n",
       "        2.36700337,  2.43434343,  2.5016835 ,  2.56902357,  2.63636364,\n",
       "        2.7037037 ,  2.77104377,  2.83838384,  2.90572391,  2.97306397,\n",
       "        3.04040404,  3.10774411,  3.17508418,  3.24242424,  3.30976431,\n",
       "        3.37710438,  3.44444444,  3.51178451,  3.57912458,  3.64646465,\n",
       "        3.71380471,  3.78114478,  3.84848485,  3.91582492,  3.98316498,\n",
       "        4.05050505,  4.11784512,  4.18518519,  4.25252525,  4.31986532,\n",
       "        4.38720539,  4.45454545,  4.52188552,  4.58922559,  4.65656566,\n",
       "        4.72390572,  4.79124579,  4.85858586,  4.92592593,  4.99326599,\n",
       "        5.06060606,  5.12794613,  5.1952862 ,  5.26262626,  5.32996633,\n",
       "        5.3973064 ,  5.46464646,  5.53198653,  5.5993266 ,  5.66666667])"
      ]
     },
     "execution_count": 31,
     "metadata": {},
     "output_type": "execute_result"
    }
   ],
   "source": [
    "M = A_system\n",
    "(M[0,2] - M[0,0] * x_1) / M[0,1]"
   ]
  },
  {
   "cell_type": "code",
   "execution_count": 45,
   "id": "b8322d51",
   "metadata": {},
   "outputs": [],
   "source": [
    "import matplotlib.pyplot as plt\n",
    "\n",
    "def plot_lines(M):\n",
    "    x_1 = np.linspace(-10,10,100)\n",
    "    x_2_line_1 = (M[0,2] - M[0,0] * x_1) / M[0,1]\n",
    "    x_2_line_2 = (M[1,2] - M[1,0] * x_1) / M[1,1]\n",
    "    \n",
    "    _, ax = plt.subplots(figsize=(10, 10))\n",
    "    ax.plot(x_1, x_2_line_1, '-', linewidth=2, color='#0075ff',\n",
    "        label=f'$x_2={-M[0,0]/M[0,1]:.2f}x_1 + {M[0,2]/M[0,1]:.2f}$')\n",
    "    ax.plot(x_1, x_2_line_2, '-', linewidth=2, color='#ff7300',\n",
    "        label=f'$x_2={-M[1,0]/M[1,1]:.2f}x_1 + {M[1,2]/M[1,1]:.2f}$')\n",
    "\n",
    "    A = M[:, 0:-1]\n",
    "    b = M[:, -1::].flatten()\n",
    "    d = np.linalg.det(A)\n",
    "\n",
    "    if d != 0:\n",
    "        solution = np.linalg.solve(A,b) \n",
    "        ax.plot(solution[0], solution[1], '-o', mfc='none', \n",
    "            markersize=10, markeredgecolor='#ff0000', markeredgewidth=2)\n",
    "        ax.text(solution[0]-0.25, solution[1]+0.75, f'$(${solution[0]:.0f}$,{solution[1]:.0f})$', fontsize=14)\n",
    "    ax.tick_params(axis='x', labelsize=14)\n",
    "    ax.tick_params(axis='y', labelsize=14)\n",
    "    ax.set_xticks(np.arange(-10, 10))\n",
    "    ax.set_yticks(np.arange(-10, 10))\n",
    "\n",
    "    plt.xlabel('$x_1$', size=14)\n",
    "    plt.ylabel('$x_2$', size=14)\n",
    "    plt.legend(loc='upper right', fontsize=14)\n",
    "    plt.axis([-10, 10, -10, 10])\n",
    "\n",
    "    plt.grid()\n",
    "    plt.gca().set_aspect(\"equal\")\n",
    "\n",
    "    plt.show()"
   ]
  },
  {
   "cell_type": "code",
   "execution_count": 12,
   "id": "5e9ad8c1",
   "metadata": {},
   "outputs": [
    {
     "data": {
      "image/png": "[encoded data removed]",
      "text/plain": [
       "<Figure size 1000x1000 with 1 Axes>"
      ]
     },
     "metadata": {},
     "output_type": "display_data"
    }
   ],
   "source": [
    "plot_lines(A_system)"
   ]
  },
  {
   "cell_type": "markdown",
   "id": "696ec734",
   "metadata": {},
   "source": [
    "<a name='3'></a>\n",
    "## 3 - System of Linear Equations with No Solutions\n",
    "\n",
    "Given another system of linear equations:\n",
    "\n",
    "$$\\begin{cases} \n",
    "-x_1+3x_2=7, \\\\ 3x_1-9x_2=1, \\end{cases}\\tag{5}$$\n",
    "\n",
    "let's find the determinant of the corresponding matrix."
   ]
  },
  {
   "cell_type": "code",
   "execution_count": 39,
   "id": "4780129a",
   "metadata": {},
   "outputs": [
    {
     "name": "stdout",
     "output_type": "stream",
     "text": [
      "Determinant of matrix A_2: -0.00\n"
     ]
    }
   ],
   "source": [
    "A_2 = np.array([\n",
    "        [-1, 3],\n",
    "        [3, -9]\n",
    "    ], dtype=np.dtype(float))\n",
    "\n",
    "b_2 = np.array([7, 1], dtype=np.dtype(float))\n",
    "\n",
    "d_2 = np.linalg.det(A_2)\n",
    "\n",
    "print(f\"Determinant of matrix A_2: {d_2:.2f}\")"
   ]
  },
  {
   "cell_type": "markdown",
   "id": "e60bd6f9",
   "metadata": {},
   "source": [
    "It is equal to zero, thus the system cannot have one unique solution. It will have either infinitely many solutions or none. The consistency of it will depend on the free coefficients (right side coefficients). You can run the code in the following cell to check that the `np.linalg.solve()` function will give an error due to singularity."
   ]
  },
  {
   "cell_type": "code",
   "execution_count": 40,
   "id": "14f088b4",
   "metadata": {},
   "outputs": [],
   "source": [
    "try:\n",
    "    x_2 = np.linalg.solve(A_2, b_2)\n",
    "except np.linalg.LinAlgError as err:\n",
    "    print(err)"
   ]
  },
  {
   "cell_type": "markdown",
   "id": "498c259c",
   "metadata": {},
   "source": [
    "Prepare to apply the elimination method, constructing the matrix, corresponding to this linear system:"
   ]
  },
  {
   "cell_type": "code",
   "execution_count": 41,
   "id": "86947dce",
   "metadata": {},
   "outputs": [
    {
     "name": "stdout",
     "output_type": "stream",
     "text": [
      "[[-1.  3.  7.]\n",
      " [ 3. -9.  1.]]\n"
     ]
    }
   ],
   "source": [
    "A_2_system = np.hstack((A_2, b_2.reshape((2, 1))))\n",
    "print(A_2_system)"
   ]
  },
  {
   "cell_type": "markdown",
   "id": "c3376fb2",
   "metadata": {},
   "source": [
    "Perform elimination:"
   ]
  },
  {
   "cell_type": "code",
   "execution_count": 42,
   "id": "ba69aa8b",
   "metadata": {},
   "outputs": [
    {
     "name": "stdout",
     "output_type": "stream",
     "text": [
      "[[-1.  3.  7.]\n",
      " [ 0.  0. 22.]]\n"
     ]
    }
   ],
   "source": [
    "# copy() matrix.\n",
    "A_2_system_res = A_2_system.copy()\n",
    "\n",
    "# Multiply row 0 by 3 and add it to the row 1.\n",
    "A_2_system_res[1] = 3 * A_2_system_res[0] + A_2_system_res[1]\n",
    "print(A_2_system_res)"
   ]
  },
  {
   "cell_type": "markdown",
   "id": "31248168",
   "metadata": {},
   "source": [
    "The last row will correspond to the equation $0=22$ which has no solution. Thus the whole linear system $(5)$ has no solutions. Let's see what will be on the graph. Do you expect the corresponding two lines to intersect?"
   ]
  },
  {
   "cell_type": "code",
   "execution_count": 46,
   "id": "3d204598",
   "metadata": {},
   "outputs": [
    {
     "data": {
      "image/png": "[encoded data removed]",
      "text/plain": [
       "<Figure size 1000x1000 with 1 Axes>"
      ]
     },
     "metadata": {},
     "output_type": "display_data"
    }
   ],
   "source": [
    "plot_lines(A_2_system)"
   ]
  },
  {
   "cell_type": "markdown",
   "id": "6d4b7fb7",
   "metadata": {},
   "source": [
    "<a name='4'></a>\n",
    "## 4 - System of Linear Equations with Infinite Number of Solutions\n",
    "\n",
    "Changing free coefficients of the system $(5)$ you can bring it to consistency:\n",
    "\n",
    "$$\\begin{cases} \n",
    "-x_1+3x_2=7, \\\\ 3x_1-9x_2=-21, \\end{cases}\\tag{6}$$\n"
   ]
  },
  {
   "cell_type": "code",
   "execution_count": 47,
   "id": "517d4898",
   "metadata": {},
   "outputs": [],
   "source": [
    "b_3 = np.array([7, -21], dtype=np.dtype(float))"
   ]
  },
  {
   "cell_type": "markdown",
   "id": "ad9f41d9",
   "metadata": {},
   "source": [
    "Prepare the new matrix, corresponding to the system $(6)$:"
   ]
  },
  {
   "cell_type": "code",
   "execution_count": 48,
   "id": "8e03845c",
   "metadata": {},
   "outputs": [
    {
     "name": "stdout",
     "output_type": "stream",
     "text": [
      "[[ -1.   3.   7.]\n",
      " [  3.  -9. -21.]]\n"
     ]
    }
   ],
   "source": [
    "A_3_system = np.hstack((A_2, b_3.reshape((2, 1))))\n",
    "print(A_3_system)"
   ]
  },
  {
   "cell_type": "markdown",
   "id": "f7e952d4",
   "metadata": {},
   "source": [
    "Perform elimination using elementary operations:"
   ]
  },
  {
   "cell_type": "code",
   "execution_count": 49,
   "id": "32cdff76",
   "metadata": {},
   "outputs": [
    {
     "name": "stdout",
     "output_type": "stream",
     "text": [
      "[[-1.  3.  7.]\n",
      " [ 0.  0.  0.]]\n"
     ]
    }
   ],
   "source": [
    "# copy() matrix.\n",
    "A_3_system_res = A_3_system.copy()\n",
    "\n",
    "# Multiply row 0 by 3 and add it to the row 1.\n",
    "A_3_system_res[1] = 3 * A_3_system_res[0] + A_3_system_res[1]\n",
    "print(A_3_system_res)"
   ]
  },
  {
   "cell_type": "markdown",
   "id": "81b0fc6e",
   "metadata": {},
   "source": [
    "Thus from the corresponding linear system\n",
    "\n",
    "$$\\begin{cases} \n",
    "-x_1+3x_2=7, \\\\ 0=0, \\end{cases}\\tag{7}$$\n",
    "\n",
    "the solutions of the linear system $(6)$ are:\n",
    "\n",
    "$$x_1=3x_2-7, \\tag{8}$$\n",
    "\n",
    "where $x_2$ is any real number.\n",
    "\n",
    "If you plot the equations of the system, how many lines do you expect to see in the graph now? Check it, using the code below:"
   ]
  },
  {
   "cell_type": "code",
   "execution_count": 50,
   "id": "1c8c88c0",
   "metadata": {},
   "outputs": [
    {
     "data": {
      "image/png": "[encoded data removed]",
      "text/plain": [
       "<Figure size 1000x1000 with 1 Axes>"
      ]
     },
     "metadata": {},
     "output_type": "display_data"
    }
   ],
   "source": [
    "plot_lines(A_3_system)"
   ]
  },
  {
   "cell_type": "code",
   "execution_count": null,
   "id": "f25e3564",
   "metadata": {},
   "outputs": [],
   "source": []
  },
  {
   "cell_type": "code",
   "execution_count": null,
   "id": "eca268e9",
   "metadata": {},
   "outputs": [],
   "source": []
  }
 ],
 "metadata": {
  "kernelspec": {
   "display_name": "Python 3",
   "language": "python",
   "name": "python3"
  },
  "language_info": {
   "codemirror_mode": {
    "name": "ipython",
    "version": 3
   },
   "file_extension": ".py",
   "mimetype": "text/x-python",
   "name": "python",
   "nbconvert_exporter": "python",
   "pygments_lexer": "ipython3",
   "version": "3.10.10"
  }
 },
 "nbformat": 4,
 "nbformat_minor": 5
}
