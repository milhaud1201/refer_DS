{
 "cells": [
  {
   "attachments": {},
   "cell_type": "markdown",
   "metadata": {},
   "source": [
    "## The Rank of a matrix"
   ]
  },
  {
   "attachments": {},
   "cell_type": "markdown",
   "metadata": {},
   "source": [
    "# Library Load"
   ]
  },
  {
   "cell_type": "code",
   "execution_count": 1,
   "metadata": {},
   "outputs": [],
   "source": [
    "import numpy as np"
   ]
  },
  {
   "attachments": {},
   "cell_type": "markdown",
   "metadata": {},
   "source": [
    "# Q1.\n",
    "You are a lead engineer at **Stark Industries** working on robotics special projects. You stumble upon the old schematics of the Iron Man suit and decide to take on an ambitious project. As a savvy engineer, you realize the potential of upgrading the exoskeleton to help people walk after a neurological injury.\n",
    "  \n",
    "To ensure your exoskeleton is affordable and slim, you generate a new composite structure combining fiberglass, aluminum, and carbon nanotube materials. Ultimately, you need to assess the price of each material. \n",
    "  \n",
    "**1st iteration:** You use 7 units of fiberglass, 5 units of aluminum, and 3 units of carbon nanotubes, which cost $120.\n",
    "  \n",
    "**2nd iteration:** You engineer a less wasteful process that uses 3 units of fiberglass, 2 units of aluminum, and 5 units of carbon nanotubes to produce the same amount of composite, the total cost is $70.\n",
    "  \n",
    "**3rd iteration:** You combine electrostimulation delivery, which cuts down the cost of the suit by using only 1 unit of fiberglass, 2 units of aluminum, and 1 unit of carbon nanotubes, which cost $20. \n",
    "  \n",
    "**Which of the following represents the correct system of equations?**"
   ]
  },
  {
   "attachments": {},
   "cell_type": "markdown",
   "metadata": {},
   "source": [
    "# A1. \n",
    "$\\begin{cases}\n",
    "    7f + 5a + 3c = 120 \\\\\n",
    "    3f + 2a + 5c = 70 \\\\\n",
    "    f + 2a + c = 20\n",
    "\\end{cases}$\n",
    "\n",
    "> Each equation should represent one iteration - E1 (the first equation) shows the units used in the first iteration for fiberglass (7), aluminum (5) and carbon nanotubes (3) which all cost $120. The same process is applied to the two other equations."
   ]
  },
  {
   "cell_type": "code",
   "execution_count": 2,
   "metadata": {},
   "outputs": [],
   "source": [
    "A = np.array([\n",
    "    [7, 5, 3],\n",
    "    [3, 2, 5],\n",
    "    [1, 2, 1]\n",
    "], dtype=np.dtype(float))\n",
    "\n",
    "b = np.array(\n",
    "   [120, 70, 20]\n",
    ", dtype=np.dtype(float))"
   ]
  },
  {
   "attachments": {},
   "cell_type": "markdown",
   "metadata": {},
   "source": [
    "# Q2.\n",
    "**Which of the following steps can you take to solve the system of equations? Select all that apply.**"
   ]
  },
  {
   "attachments": {},
   "cell_type": "markdown",
   "metadata": {},
   "source": [
    "# A2.\n",
    "Isolate one variable and substitute into the next equation to find the other variable.  \n",
    "> This is also known as the method of substitution, where you isolate one variable $(either f, a,$ or $c)$ and substitute its value into the other equation to find the remaining variable. \n",
    "\n",
    "Divide the first equation by 7.\n",
    "> This is one of the first steps you can take to create an entry of 1 and start simplifying the system of equations, or matrix (into REF or RREF form). \n",
    "\n",
    "Subtract the second row from the first row.\n",
    "> This is one way of finding the solutions for the values of $f, a$ and $c$.\n",
    "\n",
    "Multiply the first equation by 3 and subtract it from equation 2.\n",
    "\n",
    "Multiply by a scalar and add the two rows. \n",
    "> Which number can you use to multiply the second equation to subtract from the first one?"
   ]
  },
  {
   "cell_type": "code",
   "execution_count": 3,
   "metadata": {},
   "outputs": [
    {
     "data": {
      "text/plain": [
       "array([[  7.,   5.,   3., 120.],\n",
       "       [  3.,   2.,   5.,  70.],\n",
       "       [  1.,   2.,   1.,  20.]])"
      ]
     },
     "execution_count": 3,
     "metadata": {},
     "output_type": "execute_result"
    }
   ],
   "source": [
    "A_system = np.hstack((A, b.reshape(3, 1)))\n",
    "A_system"
   ]
  },
  {
   "cell_type": "code",
   "execution_count": 4,
   "metadata": {},
   "outputs": [
    {
     "data": {
      "text/plain": [
       "array([ 1.        ,  0.71428571,  0.42857143, 17.14285714])"
      ]
     },
     "execution_count": 4,
     "metadata": {},
     "output_type": "execute_result"
    }
   ],
   "source": [
    "# Divide the first equation by 7.\n",
    "A_system[0] / 7"
   ]
  },
  {
   "cell_type": "code",
   "execution_count": 5,
   "metadata": {},
   "outputs": [
    {
     "data": {
      "text/plain": [
       "array([ -4.,  -3.,   2., -50.])"
      ]
     },
     "execution_count": 5,
     "metadata": {},
     "output_type": "execute_result"
    }
   ],
   "source": [
    "# Subtract the second row from the first row.\n",
    "A_system[1] - A_system[0]"
   ]
  },
  {
   "cell_type": "code",
   "execution_count": 6,
   "metadata": {},
   "outputs": [
    {
     "data": {
      "text/plain": [
       "array([ -18.,  -13.,   -4., -290.])"
      ]
     },
     "execution_count": 6,
     "metadata": {},
     "output_type": "execute_result"
    }
   ],
   "source": [
    "# Multiply the first equation by 3 and subtract it from equation 2.\n",
    "A_system[1] - A_system[0] * 3"
   ]
  },
  {
   "attachments": {},
   "cell_type": "markdown",
   "metadata": {},
   "source": [
    "# Q3.\n",
    "**Which of the following information can you extract from the given system of equations?**"
   ]
  },
  {
   "attachments": {},
   "cell_type": "markdown",
   "metadata": {},
   "source": [
    "# A3.\n",
    "Row-reduced echelon form.\n",
    "> RREF or row-reduced echelon form is the simplest reduction method to a matrix that in its simplest form has 1s diagonally, and 0s elsewhere. If you’re curious, bring the current matrix of the problem into RREF form\n",
    "\n",
    "The rank of the matrix.\n",
    "> You can determine the rank from the number of independent rows in the matrix. What other ways can you use to find the rank? Think back from system of sentences video.\n",
    "\n",
    "The cost of each material.\n",
    ">  Your ultimate goal is to determine the cost of material from solving the system of linear equations or the matrix representation of it.\n",
    "\n",
    "Whether the matrix is singular or non-singular.\n",
    "> There are a few ways to distinguish between a singular vs non-singular matrix. You can determine this by finding the determinant. \n",
    "\n",
    "Number of linearly (in)dependent rows and columns.\n",
    "> How many new pieces of information you get from the system of linear equations? When you can obtain new pieces of information, the system has linearly independent rows. Else, if you can obtain one row from operating on the others, then the rows are linearly dependent. "
   ]
  },
  {
   "attachments": {},
   "cell_type": "markdown",
   "metadata": {},
   "source": [
    "# Q4.\n",
    "**Which of the following matrices represents the system of sentences in Q1 for all three iterations?**"
   ]
  },
  {
   "attachments": {},
   "cell_type": "markdown",
   "metadata": {},
   "source": [
    "# A4.\n",
    "$\\begin{bmatrix}\n",
    "7 & 5 & 3 \\\\\n",
    "3 & 2 & 5 \\\\\n",
    "1 & 2 & 1\n",
    "\\end{bmatrix}$\n",
    "> As you learned in the video \"System of equations\", a system of sentences can be translated into a system of equations and this in it can be translated into a matrix. "
   ]
  },
  {
   "attachments": {},
   "cell_type": "markdown",
   "metadata": {},
   "source": [
    "# Q5.\n",
    "**Calculate the cost of each material by solving the system of equations.**  \n",
    "Hint: You can use the method of substitution, or row reducing the matrix to a simpler form. "
   ]
  },
  {
   "attachments": {},
   "cell_type": "markdown",
   "metadata": {},
   "source": [
    "# A5. \n",
    "fiberglass = $15, aluminum = $0, carbon nanotubes = $5\n",
    "> It turns out you didn't spend anything on aluminum, since it was most likely provided by the Stark Corporation! "
   ]
  },
  {
   "cell_type": "code",
   "execution_count": 7,
   "metadata": {},
   "outputs": [
    {
     "data": {
      "text/plain": [
       "array([[  7.,   5.,   3., 120.],\n",
       "       [  3.,   2.,   5.,  70.],\n",
       "       [  1.,   2.,   1.,  20.]])"
      ]
     },
     "execution_count": 7,
     "metadata": {},
     "output_type": "execute_result"
    }
   ],
   "source": [
    "A_system"
   ]
  },
  {
   "cell_type": "code",
   "execution_count": 8,
   "metadata": {},
   "outputs": [
    {
     "data": {
      "text/plain": [
       "array([1.50000000e+01, 8.63506797e-16, 5.00000000e+00])"
      ]
     },
     "execution_count": 8,
     "metadata": {},
     "output_type": "execute_result"
    }
   ],
   "source": [
    "np.linalg.solve(A, b)"
   ]
  },
  {
   "cell_type": "code",
   "execution_count": 9,
   "metadata": {},
   "outputs": [
    {
     "name": "stdout",
     "output_type": "stream",
     "text": [
      "[[  1.  -2.   3.  30.]\n",
      " [  0.   1.  42. 210.]\n",
      " [  0.   0.   1.   5.]]\n"
     ]
    }
   ],
   "source": [
    "def augmented_to_ref(A, b):\n",
    "    A_system = np.hstack((A, b.reshape(3, 1)))\n",
    "    A_system[[2, 0]] = A_system[[0, 2]]\n",
    "    A_ref = A_system.copy()\n",
    "    A_ref[1] = A_ref[0] * -3 + A_ref[1]\n",
    "    A_ref[0] = A_ref[1] + A_ref[0]\n",
    "    A_ref[2] = A_ref[0] * -7 + A_ref[2]\n",
    "    A_ref[2] = A_ref[1] * 5 + A_ref[2]\n",
    "    A_ref[1] = A_ref[2] * -5 + A_ref[1]\n",
    "    A_ref[2] = A_ref[1] + A_ref[2]\n",
    "    A_ref[2] = A_ref[2] * 1/34\n",
    "    return A_ref\n",
    "\n",
    "A_ref = augmented_to_ref(A, b)\n",
    "\n",
    "print(A_ref)"
   ]
  },
  {
   "cell_type": "code",
   "execution_count": 10,
   "metadata": {},
   "outputs": [
    {
     "name": "stdout",
     "output_type": "stream",
     "text": [
      "15.0 0.0 5.0\n"
     ]
    }
   ],
   "source": [
    "c = A_ref[2][3]\n",
    "a = A_ref[1][3] - A_ref[1][2] * c\n",
    "f = A_ref[0][3] - A_ref[0][2] * c - A_ref[0][1] * a\n",
    "\n",
    "print(f, a, c)"
   ]
  },
  {
   "attachments": {},
   "cell_type": "markdown",
   "metadata": {},
   "source": [
    "# Q6.\n",
    "**Use the determinant to find if the matrix is singular or non-singular. Is the matrix in Row-echelon form or Reduced row-echelon form?**"
   ]
  },
  {
   "attachments": {},
   "cell_type": "markdown",
   "metadata": {},
   "source": [
    "# A6.\n",
    "-34, Non-singular, Neither\n",
    "> The determinant for the 3x3 matrix is -34. By definition, a matrix with determinant 0 is singular, while any other value is non-singular. Therefore, the matrix provided is non-singular. "
   ]
  },
  {
   "cell_type": "code",
   "execution_count": 11,
   "metadata": {},
   "outputs": [
    {
     "data": {
      "text/plain": [
       "-34.00000000000001"
      ]
     },
     "execution_count": 11,
     "metadata": {},
     "output_type": "execute_result"
    }
   ],
   "source": [
    "np.linalg.det(A)"
   ]
  },
  {
   "attachments": {},
   "cell_type": "markdown",
   "metadata": {},
   "source": [
    "# Q7.\n",
    "**What is the rank in the above matrix?**"
   ]
  },
  {
   "attachments": {},
   "cell_type": "markdown",
   "metadata": {},
   "source": [
    "# A7.\n",
    "3\n",
    "> You have three iterations where you find the cost of each of the three materials used. Therefore, the rank of the matrix is 3 since there are 3 linearly independent rows in it."
   ]
  },
  {
   "attachments": {},
   "cell_type": "markdown",
   "metadata": {},
   "source": [
    "# Q8.\n",
    "To assist you with your design choices, your AI assistant compiles a few matrices with different combinations of materials. Since your experiments are not free, you want to try the option that gives you the highest amount of information.  \n",
    "  \n",
    "Sort the matrices from the one that provides the lowest amount of information to the highest ( from the lowest rank to the highest rank). \n",
    "\n",
    "a. \n",
    "$\\begin{bmatrix}\n",
    "0 & 1 & 1 \\\\\n",
    "2 & 4 & 2 \\\\\n",
    "1 & 2 & 1\n",
    "\\end{bmatrix}$\n",
    "\n",
    "b.\n",
    "$\\begin{bmatrix}\n",
    "7.5 & 5 & 12.5 \\\\\n",
    "3 & 2 & 5 \\\\\n",
    "0 & 0 & 0\n",
    "\\end{bmatrix}$\n",
    "\n",
    "c.\n",
    "$\\begin{bmatrix}\n",
    "7 & 5 & 3 \\\\\n",
    "3 & 2 & 5 \\\\\n",
    "1 & 2 & 1\n",
    "\\end{bmatrix}$\n",
    "\n",
    "Hint: To help you get started, determine which matrices have linearly dependent rows. You've already found the rank of the third matrix!"
   ]
  },
  {
   "attachments": {},
   "cell_type": "markdown",
   "metadata": {},
   "source": [
    "# A8.\n",
    "b, a, c\n",
    "> Matrices b, a, and c represent the rank ordered from lowest (1) to the highest (3)."
   ]
  },
  {
   "attachments": {},
   "cell_type": "markdown",
   "metadata": {},
   "source": [
    "# Q9.\n",
    "**To further optimize the cost of materials, you finally reduce your number of iterations to only 2 tries, where you now obtain a 2x2 matrix with rank 1.**\n",
    "  \n",
    "**Which of the following is your matrix?**\n",
    "  \n",
    "Hint: Which of the following 2x2 matrices have rank  = 1?"
   ]
  },
  {
   "attachments": {},
   "cell_type": "markdown",
   "metadata": {},
   "source": [
    "# A9.\n",
    "$\\begin{bmatrix}\n",
    "1 & 1 \\\\\n",
    "2 & 2 \n",
    "\\end{bmatrix}$\n",
    "> The solution for the matrix consists of a line in the graph. This means that the rank is equal to 1."
   ]
  }
 ],
 "metadata": {
  "kernelspec": {
   "display_name": "cv_env",
   "language": "python",
   "name": "python3"
  },
  "language_info": {
   "codemirror_mode": {
    "name": "ipython",
    "version": 3
   },
   "file_extension": ".py",
   "mimetype": "text/x-python",
   "name": "python",
   "nbconvert_exporter": "python",
   "pygments_lexer": "ipython3",
   "version": "3.10.10"
  },
  "orig_nbformat": 4
 },
 "nbformat": 4,
 "nbformat_minor": 2
}
